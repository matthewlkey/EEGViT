{
 "cells": [
  {
   "cell_type": "code",
   "execution_count": null,
   "metadata": {},
   "outputs": [],
   "source": [
    "from models.EEGViT_pretrained import EEGViT_pretrained\n",
    "from models.EEGViT import EEGViT_raw\n",
    "from models.ViTBase import ViTBase\n",
    "from models.ViTBase_pretrained import ViTBase_pretrained\n",
    "from helper_functions import split\n",
    "from dataset.EEGEyeNet import EEGEyeNetDataset\n",
    "import torch\n",
    "import torch.nn as nn\n",
    "from torch.utils.data import DataLoader, Subset\n",
    "from tqdm import tqdm\n",
    "import numpy as np"
   ]
  },
  {
   "cell_type": "markdown",
   "metadata": {},
   "source": [
    "\n",
    "<br>\n",
    "models: EEGViT_pretrained; EEGViT_raw; ViTBase; ViTBase_pretrained<br>\n"
   ]
  },
  {
   "cell_type": "code",
   "execution_count": null,
   "metadata": {},
   "outputs": [],
   "source": [
    "model = EEGViT_pretrained()\n",
    "EEGEyeNet = EEGEyeNetDataset('./dataset/Position_task_with_dots_synchronised_min.npz')\n",
    "batch_size = 64\n",
    "n_epoch = 15\n",
    "learning_rate = 1e-4"
   ]
  },
  {
   "cell_type": "code",
   "execution_count": null,
   "metadata": {},
   "outputs": [],
   "source": [
    "criterion = nn.MSELoss()"
   ]
  },
  {
   "cell_type": "code",
   "execution_count": null,
   "metadata": {},
   "outputs": [],
   "source": [
    "optimizer = torch.optim.Adam(model.parameters(), lr=learning_rate)\n",
    "scheduler = torch.optim.lr_scheduler.StepLR(optimizer, step_size=6, gamma=0.1)"
   ]
  },
  {
   "cell_type": "code",
   "execution_count": null,
   "metadata": {},
   "outputs": [],
   "source": [
    "def train(model, optimizer, scheduler = None):\n",
    "    '''\n",
    "        model: model to train\n",
    "        optimizer: optimizer to update weights\n",
    "        scheduler: scheduling learning rate, used when finetuning pretrained models\n",
    "    '''\n",
    "    torch.cuda.empty_cache()\n",
    "    train_indices, val_indices, test_indices = split(EEGEyeNet.trainY[:,0],0.7,0.15,0.15)  # indices for the training set\n",
    "    print('create dataloader...')\n",
    "    \n",
    "    train = Subset(EEGEyeNet,indices=train_indices)\n",
    "    val = Subset(EEGEyeNet,indices=val_indices)\n",
    "    test = Subset(EEGEyeNet,indices=test_indices)\n",
    "    train_loader = DataLoader(train, batch_size=batch_size)\n",
    "    val_loader = DataLoader(val, batch_size=batch_size)\n",
    "    test_loader = DataLoader(test, batch_size=batch_size)\n",
    "    if torch.cuda.is_available():\n",
    "        gpu_id = 0  # Change this to the desired GPU ID if you have multiple GPUs\n",
    "        torch.cuda.set_device(gpu_id)\n",
    "        device = torch.device(f\"cuda:{gpu_id}\")\n",
    "    else:\n",
    "        device = torch.device(\"cpu\")\n",
    "    if torch.cuda.device_count() > 1:\n",
    "        model = nn.DataParallel(model)  # Wrap the model with DataParallel\n",
    "    print(\"HI\")\n",
    "    model = model.to(device)\n",
    "    criterion = criterion.to(device)\n",
    "\n",
    "    # Initialize lists to store losses\n",
    "    train_losses = []\n",
    "    val_losses = []\n",
    "    test_losses = []\n",
    "    print('training...')\n",
    "    # Train the model\n",
    "    for epoch in range(n_epoch):\n",
    "        model.train()\n",
    "        epoch_train_loss = 0.0\n",
    "        for i, (inputs, targets, index) in tqdm(enumerate(train_loader)):\n",
    "            # Move the inputs and targets to the GPU (if available)\n",
    "            inputs = inputs.to(device)\n",
    "            targets = targets.to(device)\n",
    "\n",
    "            # Compute the outputs and loss for the current batch\n",
    "            optimizer.zero_grad()\n",
    "            outputs = model(inputs)\n",
    "            loss = criterion(outputs.squeeze(), targets.squeeze())\n",
    "\n",
    "            # Compute the gradients and update the parameters\n",
    "            loss.backward()\n",
    "            optimizer.step()\n",
    "            epoch_train_loss += loss.item()\n",
    "\n",
    "            # Print the loss and accuracy for the current batch\n",
    "            if i % 100 == 0:\n",
    "                print(f\"Epoch {epoch}, Batch {i}, Loss: {loss.item()}\")\n",
    "        epoch_train_loss /= len(train_loader)\n",
    "        train_losses.append(epoch_train_loss)\n",
    "\n",
    "        # Evaluate the model on the validation set\n",
    "        model.eval()\n",
    "        with torch.no_grad():\n",
    "            val_loss = 0.0\n",
    "            for inputs, targets, index in val_loader:\n",
    "                # Move the inputs and targets to the GPU (if available)\n",
    "                inputs = inputs.to(device)\n",
    "                targets = targets.to(device)\n",
    "                # Compute the outputs and loss for the current batch\n",
    "                outputs = model(inputs)\n",
    "                # print(outputs)\n",
    "                loss = criterion(outputs.squeeze(), targets.squeeze())\n",
    "                val_loss += loss.item()\n",
    "\n",
    "            val_loss /= len(val_loader)\n",
    "            val_losses.append(val_loss)\n",
    "            print(f\"Epoch {epoch}, Val Loss: {val_loss}\")\n",
    "        with torch.no_grad():\n",
    "            val_loss = 0.0\n",
    "            for inputs, targets, index in test_loader:\n",
    "                # Move the inputs and targets to the GPU (if available)\n",
    "                inputs = inputs.to(device)\n",
    "                targets = targets.to(device)\n",
    "                # Compute the outputs and loss for the current batch\n",
    "                outputs = model(inputs)\n",
    "                loss = criterion(outputs.squeeze(), targets.squeeze())\n",
    "                val_loss += loss.item()\n",
    "            val_loss /= len(test_loader)\n",
    "            test_losses.append(val_loss)\n",
    "            print(f\"Epoch {epoch}, test Loss: {val_loss}\")\n",
    "        if scheduler is not None:\n",
    "            scheduler.step()"
   ]
  },
  {
   "cell_type": "code",
   "execution_count": null,
   "metadata": {},
   "outputs": [],
   "source": [
    "if __name__ == \"__main__\":\n",
    "    train(model,optimizer=optimizer, scheduler=scheduler)"
   ]
  }
 ],
 "metadata": {
  "kernelspec": {
   "display_name": "Python 3",
   "language": "python",
   "name": "python3"
  },
  "language_info": {
   "codemirror_mode": {
    "name": "ipython",
    "version": 3
   },
   "file_extension": ".py",
   "mimetype": "text/x-python",
   "name": "python",
   "nbconvert_exporter": "python",
   "pygments_lexer": "ipython3",
   "version": "3.6.4"
  }
 },
 "nbformat": 4,
 "nbformat_minor": 2
}
